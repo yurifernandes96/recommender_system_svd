{
  "cells": [
    {
      "cell_type": "markdown",
      "source": [
        "# Bibliotecas utilizadas"
      ],
      "metadata": {
        "id": "RMCQNpqvHPlR"
      }
    },
    {
      "cell_type": "code",
      "execution_count": null,
      "metadata": {
        "ExecuteTime": {
          "end_time": "2018-02-05T21:21:18.622863Z",
          "start_time": "2018-02-05T21:21:18.125621Z"
        },
        "collapsed": true,
        "run_control": {
          "frozen": false,
          "read_only": false
        },
        "id": "HqCiXijzjxBc"
      },
      "outputs": [],
      "source": [
        "import numpy as np\n",
        "import pandas as pd\n",
        "import seaborn as sb\n",
        "import matplotlib.pyplot as plt\n",
        "from scipy.sparse import coo_matrix\n",
        "from scipy.sparse.linalg import svds"
      ]
    },
    {
      "cell_type": "markdown",
      "source": [
        "# Tratamento dos dados"
      ],
      "metadata": {
        "id": "B_uW-YuoHzoi"
      }
    },
    {
      "cell_type": "markdown",
      "metadata": {
        "run_control": {
          "frozen": false,
          "read_only": false
        },
        "id": "Hbqmk5C6jxBe"
      },
      "source": [
        "Dataset obtido [aqui](http://grouplens.org/datasets/movielens/20m).\n",
        "\n",
        "O arquivo de avaliações original ('ratings.csv') contém mais de 20M de linhas (508MB de espaço) e levaria muito tempo para ser processado.\n",
        "\n",
        "Para este trabalho, consideramos apenas as primeiras 100 mil linhas do arquivo de avaliações, gerando um novo arquivo 'ratings_small.csv' a partir do comando:\n",
        "\n",
        "`cat ratings.csv | head -100000 > ratings_small.csv`"
      ]
    },
    {
      "cell_type": "markdown",
      "source": [
        "Arquivos .csv foram carregados em um repositório online"
      ],
      "metadata": {
        "id": "dHejxNG47IR_"
      }
    },
    {
      "cell_type": "code",
      "source": [
        "movies_csv = \"https://raw.githubusercontent.com/yurifernandes96/recommender_system_svd/main/movies.csv\"\n",
        "ratings_small_csv = \"https://raw.githubusercontent.com/yurifernandes96/recommender_system_svd/main/ratings_small.csv\""
      ],
      "metadata": {
        "id": "8xYsyMfMPg__"
      },
      "execution_count": null,
      "outputs": []
    },
    {
      "cell_type": "markdown",
      "source": [
        "## Identificação dos Filmes"
      ],
      "metadata": {
        "id": "bYoHNWALKYAj"
      }
    },
    {
      "cell_type": "markdown",
      "source": [
        "Vamos carregar o arquivo 'movies.csv' em um DataFrame, que vai fazer o papel de um dicionário que mapeia o ID de um filme com o seu título."
      ],
      "metadata": {
        "id": "iIMIY2MhI1Lq"
      }
    },
    {
      "cell_type": "code",
      "execution_count": null,
      "metadata": {
        "ExecuteTime": {
          "end_time": "2018-02-05T21:21:34.916784Z",
          "start_time": "2018-02-05T21:21:34.881289Z"
        },
        "collapsed": true,
        "run_control": {
          "frozen": false,
          "read_only": false
        },
        "id": "yiQMcS2TjxBf"
      },
      "outputs": [],
      "source": [
        "movies = pd.read_table(movies_csv, sep=',',names = ['movieId',\"Title\",\"genres\"], skiprows=1)"
      ]
    },
    {
      "cell_type": "code",
      "execution_count": null,
      "metadata": {
        "ExecuteTime": {
          "end_time": "2018-02-05T21:21:37.047461Z",
          "start_time": "2018-02-05T21:21:37.025961Z"
        },
        "colab": {
          "base_uri": "https://localhost:8080/",
          "height": 424
        },
        "id": "kc9yRajXjxBf",
        "outputId": "c1a95eaf-c251-45ff-ca40-52a15f72ed91"
      },
      "outputs": [
        {
          "output_type": "execute_result",
          "data": {
            "text/plain": [
              "       movieId                               Title  \\\n",
              "0            1                    Toy Story (1995)   \n",
              "1            2                      Jumanji (1995)   \n",
              "2            3             Grumpier Old Men (1995)   \n",
              "3            4            Waiting to Exhale (1995)   \n",
              "4            5  Father of the Bride Part II (1995)   \n",
              "...        ...                                 ...   \n",
              "27273   131254        Kein Bund für's Leben (2007)   \n",
              "27274   131256       Feuer, Eis & Dosenbier (2002)   \n",
              "27275   131258                  The Pirates (2014)   \n",
              "27276   131260                 Rentun Ruusu (2001)   \n",
              "27277   131262                    Innocence (2014)   \n",
              "\n",
              "                                            genres  \n",
              "0      Adventure|Animation|Children|Comedy|Fantasy  \n",
              "1                       Adventure|Children|Fantasy  \n",
              "2                                   Comedy|Romance  \n",
              "3                             Comedy|Drama|Romance  \n",
              "4                                           Comedy  \n",
              "...                                            ...  \n",
              "27273                                       Comedy  \n",
              "27274                                       Comedy  \n",
              "27275                                    Adventure  \n",
              "27276                           (no genres listed)  \n",
              "27277                     Adventure|Fantasy|Horror  \n",
              "\n",
              "[27278 rows x 3 columns]"
            ],
            "text/html": [
              "\n",
              "  <div id=\"df-7408b533-7ac1-447e-81bb-ffe5aa7f1099\" class=\"colab-df-container\">\n",
              "    <div>\n",
              "<style scoped>\n",
              "    .dataframe tbody tr th:only-of-type {\n",
              "        vertical-align: middle;\n",
              "    }\n",
              "\n",
              "    .dataframe tbody tr th {\n",
              "        vertical-align: top;\n",
              "    }\n",
              "\n",
              "    .dataframe thead th {\n",
              "        text-align: right;\n",
              "    }\n",
              "</style>\n",
              "<table border=\"1\" class=\"dataframe\">\n",
              "  <thead>\n",
              "    <tr style=\"text-align: right;\">\n",
              "      <th></th>\n",
              "      <th>movieId</th>\n",
              "      <th>Title</th>\n",
              "      <th>genres</th>\n",
              "    </tr>\n",
              "  </thead>\n",
              "  <tbody>\n",
              "    <tr>\n",
              "      <th>0</th>\n",
              "      <td>1</td>\n",
              "      <td>Toy Story (1995)</td>\n",
              "      <td>Adventure|Animation|Children|Comedy|Fantasy</td>\n",
              "    </tr>\n",
              "    <tr>\n",
              "      <th>1</th>\n",
              "      <td>2</td>\n",
              "      <td>Jumanji (1995)</td>\n",
              "      <td>Adventure|Children|Fantasy</td>\n",
              "    </tr>\n",
              "    <tr>\n",
              "      <th>2</th>\n",
              "      <td>3</td>\n",
              "      <td>Grumpier Old Men (1995)</td>\n",
              "      <td>Comedy|Romance</td>\n",
              "    </tr>\n",
              "    <tr>\n",
              "      <th>3</th>\n",
              "      <td>4</td>\n",
              "      <td>Waiting to Exhale (1995)</td>\n",
              "      <td>Comedy|Drama|Romance</td>\n",
              "    </tr>\n",
              "    <tr>\n",
              "      <th>4</th>\n",
              "      <td>5</td>\n",
              "      <td>Father of the Bride Part II (1995)</td>\n",
              "      <td>Comedy</td>\n",
              "    </tr>\n",
              "    <tr>\n",
              "      <th>...</th>\n",
              "      <td>...</td>\n",
              "      <td>...</td>\n",
              "      <td>...</td>\n",
              "    </tr>\n",
              "    <tr>\n",
              "      <th>27273</th>\n",
              "      <td>131254</td>\n",
              "      <td>Kein Bund für's Leben (2007)</td>\n",
              "      <td>Comedy</td>\n",
              "    </tr>\n",
              "    <tr>\n",
              "      <th>27274</th>\n",
              "      <td>131256</td>\n",
              "      <td>Feuer, Eis &amp; Dosenbier (2002)</td>\n",
              "      <td>Comedy</td>\n",
              "    </tr>\n",
              "    <tr>\n",
              "      <th>27275</th>\n",
              "      <td>131258</td>\n",
              "      <td>The Pirates (2014)</td>\n",
              "      <td>Adventure</td>\n",
              "    </tr>\n",
              "    <tr>\n",
              "      <th>27276</th>\n",
              "      <td>131260</td>\n",
              "      <td>Rentun Ruusu (2001)</td>\n",
              "      <td>(no genres listed)</td>\n",
              "    </tr>\n",
              "    <tr>\n",
              "      <th>27277</th>\n",
              "      <td>131262</td>\n",
              "      <td>Innocence (2014)</td>\n",
              "      <td>Adventure|Fantasy|Horror</td>\n",
              "    </tr>\n",
              "  </tbody>\n",
              "</table>\n",
              "<p>27278 rows × 3 columns</p>\n",
              "</div>\n",
              "    <div class=\"colab-df-buttons\">\n",
              "\n",
              "  <div class=\"colab-df-container\">\n",
              "    <button class=\"colab-df-convert\" onclick=\"convertToInteractive('df-7408b533-7ac1-447e-81bb-ffe5aa7f1099')\"\n",
              "            title=\"Convert this dataframe to an interactive table.\"\n",
              "            style=\"display:none;\">\n",
              "\n",
              "  <svg xmlns=\"http://www.w3.org/2000/svg\" height=\"24px\" viewBox=\"0 -960 960 960\">\n",
              "    <path d=\"M120-120v-720h720v720H120Zm60-500h600v-160H180v160Zm220 220h160v-160H400v160Zm0 220h160v-160H400v160ZM180-400h160v-160H180v160Zm440 0h160v-160H620v160ZM180-180h160v-160H180v160Zm440 0h160v-160H620v160Z\"/>\n",
              "  </svg>\n",
              "    </button>\n",
              "\n",
              "  <style>\n",
              "    .colab-df-container {\n",
              "      display:flex;\n",
              "      gap: 12px;\n",
              "    }\n",
              "\n",
              "    .colab-df-convert {\n",
              "      background-color: #E8F0FE;\n",
              "      border: none;\n",
              "      border-radius: 50%;\n",
              "      cursor: pointer;\n",
              "      display: none;\n",
              "      fill: #1967D2;\n",
              "      height: 32px;\n",
              "      padding: 0 0 0 0;\n",
              "      width: 32px;\n",
              "    }\n",
              "\n",
              "    .colab-df-convert:hover {\n",
              "      background-color: #E2EBFA;\n",
              "      box-shadow: 0px 1px 2px rgba(60, 64, 67, 0.3), 0px 1px 3px 1px rgba(60, 64, 67, 0.15);\n",
              "      fill: #174EA6;\n",
              "    }\n",
              "\n",
              "    .colab-df-buttons div {\n",
              "      margin-bottom: 4px;\n",
              "    }\n",
              "\n",
              "    [theme=dark] .colab-df-convert {\n",
              "      background-color: #3B4455;\n",
              "      fill: #D2E3FC;\n",
              "    }\n",
              "\n",
              "    [theme=dark] .colab-df-convert:hover {\n",
              "      background-color: #434B5C;\n",
              "      box-shadow: 0px 1px 3px 1px rgba(0, 0, 0, 0.15);\n",
              "      filter: drop-shadow(0px 1px 2px rgba(0, 0, 0, 0.3));\n",
              "      fill: #FFFFFF;\n",
              "    }\n",
              "  </style>\n",
              "\n",
              "    <script>\n",
              "      const buttonEl =\n",
              "        document.querySelector('#df-7408b533-7ac1-447e-81bb-ffe5aa7f1099 button.colab-df-convert');\n",
              "      buttonEl.style.display =\n",
              "        google.colab.kernel.accessAllowed ? 'block' : 'none';\n",
              "\n",
              "      async function convertToInteractive(key) {\n",
              "        const element = document.querySelector('#df-7408b533-7ac1-447e-81bb-ffe5aa7f1099');\n",
              "        const dataTable =\n",
              "          await google.colab.kernel.invokeFunction('convertToInteractive',\n",
              "                                                    [key], {});\n",
              "        if (!dataTable) return;\n",
              "\n",
              "        const docLinkHtml = 'Like what you see? Visit the ' +\n",
              "          '<a target=\"_blank\" href=https://colab.research.google.com/notebooks/data_table.ipynb>data table notebook</a>'\n",
              "          + ' to learn more about interactive tables.';\n",
              "        element.innerHTML = '';\n",
              "        dataTable['output_type'] = 'display_data';\n",
              "        await google.colab.output.renderOutput(dataTable, element);\n",
              "        const docLink = document.createElement('div');\n",
              "        docLink.innerHTML = docLinkHtml;\n",
              "        element.appendChild(docLink);\n",
              "      }\n",
              "    </script>\n",
              "  </div>\n",
              "\n",
              "\n",
              "<div id=\"df-8bdcba68-c057-40e4-b742-3a7a90be06eb\">\n",
              "  <button class=\"colab-df-quickchart\" onclick=\"quickchart('df-8bdcba68-c057-40e4-b742-3a7a90be06eb')\"\n",
              "            title=\"Suggest charts\"\n",
              "            style=\"display:none;\">\n",
              "\n",
              "<svg xmlns=\"http://www.w3.org/2000/svg\" height=\"24px\"viewBox=\"0 0 24 24\"\n",
              "     width=\"24px\">\n",
              "    <g>\n",
              "        <path d=\"M19 3H5c-1.1 0-2 .9-2 2v14c0 1.1.9 2 2 2h14c1.1 0 2-.9 2-2V5c0-1.1-.9-2-2-2zM9 17H7v-7h2v7zm4 0h-2V7h2v10zm4 0h-2v-4h2v4z\"/>\n",
              "    </g>\n",
              "</svg>\n",
              "  </button>\n",
              "\n",
              "<style>\n",
              "  .colab-df-quickchart {\n",
              "      --bg-color: #E8F0FE;\n",
              "      --fill-color: #1967D2;\n",
              "      --hover-bg-color: #E2EBFA;\n",
              "      --hover-fill-color: #174EA6;\n",
              "      --disabled-fill-color: #AAA;\n",
              "      --disabled-bg-color: #DDD;\n",
              "  }\n",
              "\n",
              "  [theme=dark] .colab-df-quickchart {\n",
              "      --bg-color: #3B4455;\n",
              "      --fill-color: #D2E3FC;\n",
              "      --hover-bg-color: #434B5C;\n",
              "      --hover-fill-color: #FFFFFF;\n",
              "      --disabled-bg-color: #3B4455;\n",
              "      --disabled-fill-color: #666;\n",
              "  }\n",
              "\n",
              "  .colab-df-quickchart {\n",
              "    background-color: var(--bg-color);\n",
              "    border: none;\n",
              "    border-radius: 50%;\n",
              "    cursor: pointer;\n",
              "    display: none;\n",
              "    fill: var(--fill-color);\n",
              "    height: 32px;\n",
              "    padding: 0;\n",
              "    width: 32px;\n",
              "  }\n",
              "\n",
              "  .colab-df-quickchart:hover {\n",
              "    background-color: var(--hover-bg-color);\n",
              "    box-shadow: 0 1px 2px rgba(60, 64, 67, 0.3), 0 1px 3px 1px rgba(60, 64, 67, 0.15);\n",
              "    fill: var(--button-hover-fill-color);\n",
              "  }\n",
              "\n",
              "  .colab-df-quickchart-complete:disabled,\n",
              "  .colab-df-quickchart-complete:disabled:hover {\n",
              "    background-color: var(--disabled-bg-color);\n",
              "    fill: var(--disabled-fill-color);\n",
              "    box-shadow: none;\n",
              "  }\n",
              "\n",
              "  .colab-df-spinner {\n",
              "    border: 2px solid var(--fill-color);\n",
              "    border-color: transparent;\n",
              "    border-bottom-color: var(--fill-color);\n",
              "    animation:\n",
              "      spin 1s steps(1) infinite;\n",
              "  }\n",
              "\n",
              "  @keyframes spin {\n",
              "    0% {\n",
              "      border-color: transparent;\n",
              "      border-bottom-color: var(--fill-color);\n",
              "      border-left-color: var(--fill-color);\n",
              "    }\n",
              "    20% {\n",
              "      border-color: transparent;\n",
              "      border-left-color: var(--fill-color);\n",
              "      border-top-color: var(--fill-color);\n",
              "    }\n",
              "    30% {\n",
              "      border-color: transparent;\n",
              "      border-left-color: var(--fill-color);\n",
              "      border-top-color: var(--fill-color);\n",
              "      border-right-color: var(--fill-color);\n",
              "    }\n",
              "    40% {\n",
              "      border-color: transparent;\n",
              "      border-right-color: var(--fill-color);\n",
              "      border-top-color: var(--fill-color);\n",
              "    }\n",
              "    60% {\n",
              "      border-color: transparent;\n",
              "      border-right-color: var(--fill-color);\n",
              "    }\n",
              "    80% {\n",
              "      border-color: transparent;\n",
              "      border-right-color: var(--fill-color);\n",
              "      border-bottom-color: var(--fill-color);\n",
              "    }\n",
              "    90% {\n",
              "      border-color: transparent;\n",
              "      border-bottom-color: var(--fill-color);\n",
              "    }\n",
              "  }\n",
              "</style>\n",
              "\n",
              "  <script>\n",
              "    async function quickchart(key) {\n",
              "      const quickchartButtonEl =\n",
              "        document.querySelector('#' + key + ' button');\n",
              "      quickchartButtonEl.disabled = true;  // To prevent multiple clicks.\n",
              "      quickchartButtonEl.classList.add('colab-df-spinner');\n",
              "      try {\n",
              "        const charts = await google.colab.kernel.invokeFunction(\n",
              "            'suggestCharts', [key], {});\n",
              "      } catch (error) {\n",
              "        console.error('Error during call to suggestCharts:', error);\n",
              "      }\n",
              "      quickchartButtonEl.classList.remove('colab-df-spinner');\n",
              "      quickchartButtonEl.classList.add('colab-df-quickchart-complete');\n",
              "    }\n",
              "    (() => {\n",
              "      let quickchartButtonEl =\n",
              "        document.querySelector('#df-8bdcba68-c057-40e4-b742-3a7a90be06eb button');\n",
              "      quickchartButtonEl.style.display =\n",
              "        google.colab.kernel.accessAllowed ? 'block' : 'none';\n",
              "    })();\n",
              "  </script>\n",
              "</div>\n",
              "    </div>\n",
              "  </div>\n"
            ]
          },
          "metadata": {},
          "execution_count": 4
        }
      ],
      "source": [
        "movies"
      ]
    },
    {
      "cell_type": "markdown",
      "source": [
        "## Geração da matriz de Avaliações"
      ],
      "metadata": {
        "id": "4hO8lmSoKjbA"
      }
    },
    {
      "cell_type": "markdown",
      "metadata": {
        "run_control": {
          "frozen": false,
          "read_only": false
        },
        "id": "ET8_NAUKjxBg"
      },
      "source": [
        "Vamos usar um leitor de texto do numpy para armazenar cada coluna do arquivo de avaliações ('ratings_small.csv') nas variáveis u, m, r, e junk, e então criar uma **matriz esparsa** baseada em coordenadas."
      ]
    },
    {
      "cell_type": "code",
      "execution_count": null,
      "metadata": {
        "ExecuteTime": {
          "end_time": "2018-02-05T21:21:57.535151Z",
          "start_time": "2018-02-05T21:21:56.670230Z"
        },
        "run_control": {
          "frozen": false,
          "read_only": false
        },
        "id": "-kkU6047jxBg"
      },
      "outputs": [],
      "source": [
        "u, m, r, junk = np.loadtxt(ratings_small_csv, delimiter=',', skiprows=1).T\n",
        "m = m.astype(int)\n",
        "u = u.astype(int)\n",
        "mat = coo_matrix((r, (u-1, m-1)), shape=(u.max(), m.max()))"
      ]
    },
    {
      "cell_type": "code",
      "execution_count": null,
      "metadata": {
        "ExecuteTime": {
          "end_time": "2018-02-05T21:21:59.516730Z",
          "start_time": "2018-02-05T21:21:59.469739Z"
        },
        "run_control": {
          "frozen": false,
          "read_only": false
        },
        "colab": {
          "base_uri": "https://localhost:8080/"
        },
        "id": "hBPbzMJDjxBh",
        "outputId": "c544f38c-d3ca-4897-e34a-8518affca48c"
      },
      "outputs": [
        {
          "output_type": "stream",
          "name": "stdout",
          "text": [
            "(702, 128594)\n",
            "  (0, 1)\t3.5\n",
            "  (0, 28)\t3.5\n",
            "  (0, 31)\t3.5\n",
            "  (0, 46)\t3.5\n",
            "  (0, 49)\t3.5\n",
            "  (0, 111)\t3.5\n",
            "  (0, 150)\t4.0\n",
            "  (0, 222)\t4.0\n",
            "  (0, 252)\t4.0\n",
            "  (0, 259)\t4.0\n",
            "  (0, 292)\t4.0\n",
            "  (0, 295)\t4.0\n",
            "  (0, 317)\t4.0\n",
            "  (0, 336)\t3.5\n",
            "  (0, 366)\t3.5\n",
            "  (0, 540)\t4.0\n",
            "  (0, 588)\t3.5\n",
            "  (0, 592)\t3.5\n",
            "  (0, 652)\t3.0\n",
            "  (0, 918)\t3.5\n",
            "  (0, 923)\t3.5\n",
            "  (0, 1008)\t3.5\n",
            "  (0, 1035)\t4.0\n",
            "  (0, 1078)\t4.0\n",
            "  (0, 1079)\t3.5\n",
            "  :\t:\n",
            "  (701, 1275)\t3.0\n",
            "  (701, 1277)\t3.5\n",
            "  (701, 1281)\t3.0\n",
            "  (701, 1284)\t4.0\n",
            "  (701, 1286)\t3.0\n",
            "  (701, 1287)\t3.5\n",
            "  (701, 1290)\t4.5\n",
            "  (701, 1292)\t4.5\n",
            "  (701, 1295)\t3.0\n",
            "  (701, 1298)\t4.0\n",
            "  (701, 1301)\t3.0\n",
            "  (701, 1303)\t3.0\n",
            "  (701, 1306)\t4.0\n",
            "  (701, 1319)\t2.0\n",
            "  (701, 1332)\t4.5\n",
            "  (701, 1338)\t3.0\n",
            "  (701, 1342)\t3.0\n",
            "  (701, 1343)\t3.0\n",
            "  (701, 1344)\t3.5\n",
            "  (701, 1356)\t4.0\n",
            "  (701, 1369)\t2.5\n",
            "  (701, 1372)\t3.0\n",
            "  (701, 1373)\t2.5\n",
            "  (701, 1376)\t1.5\n",
            "  (701, 1377)\t1.5\n"
          ]
        }
      ],
      "source": [
        "print(mat.shape)\n",
        "print(mat)"
      ]
    },
    {
      "cell_type": "markdown",
      "metadata": {
        "run_control": {
          "frozen": false,
          "read_only": false
        },
        "id": "BS_P0l9WjxBX"
      },
      "source": [
        "# Aplicação do SVD"
      ]
    },
    {
      "cell_type": "markdown",
      "metadata": {
        "run_control": {
          "frozen": false,
          "read_only": false
        },
        "id": "-T3o_6uYjxBi"
      },
      "source": [
        "Usamos o método svds, da biblioteca scipy, para decompor a **matriz esparsa** 'mat' nas matrizes U, SIGMA e VT."
      ]
    },
    {
      "cell_type": "code",
      "execution_count": null,
      "metadata": {
        "ExecuteTime": {
          "end_time": "2018-02-05T21:22:12.204082Z",
          "start_time": "2018-02-05T21:22:11.212753Z"
        },
        "collapsed": true,
        "run_control": {
          "frozen": false,
          "read_only": false
        },
        "id": "rL4HzilhjxBj"
      },
      "outputs": [],
      "source": [
        "U, SIGMA, VT = svds(mat, k=700)"
      ]
    },
    {
      "cell_type": "markdown",
      "source": [
        "## Análise dos autovalores"
      ],
      "metadata": {
        "id": "jevy2azTUXus"
      }
    },
    {
      "cell_type": "code",
      "source": [
        "SIGMA = np.flip(SIGMA) # o método svds retorna os valores singulares em ordem crescente\n",
        "SIGMA"
      ],
      "metadata": {
        "colab": {
          "base_uri": "https://localhost:8080/"
        },
        "id": "frkASiF0vKEX",
        "outputId": "44c07cff-7383-4d60-e82f-2b57c775df67"
      },
      "execution_count": null,
      "outputs": [
        {
          "output_type": "execute_result",
          "data": {
            "text/plain": [
              "array([507.64183773, 214.74740517, 205.41904406, 179.12265847,\n",
              "       152.63184276, 145.52193019, 129.94736976, 126.76570944,\n",
              "       123.70435325, 113.59438678, 107.88576124, 105.69268361,\n",
              "       102.33267603,  99.26890182,  97.53978882,  96.07995648,\n",
              "        94.08836609,  92.52203258,  91.2062904 ,  90.09531108,\n",
              "        88.11311711,  87.22332207,  84.82648374,  83.53792363,\n",
              "        81.99844883,  81.03211004,  80.42215928,  79.76005684,\n",
              "        78.19597612,  77.97086987,  77.06574603,  76.33077081,\n",
              "        75.88320778,  74.6532447 ,  74.47028234,  73.83734475,\n",
              "        73.05701531,  72.15281906,  71.79007815,  71.52979458,\n",
              "        71.06125583,  70.49227274,  69.73783243,  69.40877987,\n",
              "        68.68057691,  68.17243751,  68.11309009,  67.28084809,\n",
              "        66.70305441,  66.48831363,  66.31812615,  65.8347585 ,\n",
              "        65.3150234 ,  65.07727281,  64.54078591,  64.27958832,\n",
              "        64.05959344,  63.79222134,  63.36977309,  63.03909489,\n",
              "        62.43047768,  62.25049387,  62.02350879,  61.74868657,\n",
              "        61.61887169,  61.0670303 ,  60.56440376,  60.40608251,\n",
              "        60.15167204,  59.84859498,  59.51072092,  59.12999533,\n",
              "        58.83412241,  58.77079147,  58.47685312,  58.2521645 ,\n",
              "        57.97148714,  57.77747479,  57.44450046,  57.28646038,\n",
              "        56.97934932,  56.72327307,  56.27762836,  56.14038796,\n",
              "        56.02200536,  55.52859531,  55.49039643,  55.20020811,\n",
              "        55.08943513,  54.72359273,  54.48742239,  54.32915486,\n",
              "        53.95758561,  53.74915293,  53.65096705,  53.33687931,\n",
              "        53.22080114,  53.09616223,  52.88330595,  52.73901197,\n",
              "        52.6796452 ,  52.37550749,  52.04543389,  51.93685932,\n",
              "        51.66619385,  51.4707058 ,  51.18385849,  51.00002555,\n",
              "        50.84765046,  50.65230598,  50.54147917,  50.42911175,\n",
              "        50.17507116,  50.01322177,  49.70589498,  49.5021036 ,\n",
              "        49.39622988,  49.05048973,  48.89273618,  48.76557964,\n",
              "        48.64097507,  48.41671376,  48.29543539,  48.03425729,\n",
              "        47.92479864,  47.80125488,  47.68959576,  47.46724789,\n",
              "        47.23147327,  47.05712282,  46.75594665,  46.53613388,\n",
              "        46.37232203,  46.33829093,  46.21645087,  45.96675264,\n",
              "        45.77576291,  45.69324549,  45.4859617 ,  45.37571076,\n",
              "        45.2971435 ,  45.14045795,  44.90690998,  44.8313842 ,\n",
              "        44.60908548,  44.5111417 ,  44.44015892,  44.32184748,\n",
              "        44.08872219,  43.8122036 ,  43.61473525,  43.55857576,\n",
              "        43.39705376,  43.31339974,  43.02046483,  43.00411271,\n",
              "        42.65738082,  42.47402574,  42.37188792,  42.20344177,\n",
              "        42.08593803,  41.92345169,  41.90476621,  41.8439577 ,\n",
              "        41.65364124,  41.44319546,  41.30907656,  41.24135571,\n",
              "        41.15224604,  41.06774808,  40.96642393,  40.65731036,\n",
              "        40.48567957,  40.43429725,  40.17348178,  40.15119931,\n",
              "        39.92881185,  39.87740018,  39.80109376,  39.50579015,\n",
              "        39.4915613 ,  39.35197743,  39.24780384,  39.13138773,\n",
              "        39.06496202,  39.01998704,  38.85454126,  38.75865271,\n",
              "        38.58777524,  38.40393792,  38.19945252,  38.06856925,\n",
              "        38.0069443 ,  37.89651455,  37.8221382 ,  37.7385227 ,\n",
              "        37.59251919,  37.46493417,  37.30794304,  37.26225486,\n",
              "        37.17850079,  37.12944996,  37.0316815 ,  36.83024192,\n",
              "        36.754481  ,  36.59680578,  36.49702567,  36.38347068,\n",
              "        36.31619169,  36.18457687,  36.10441173,  35.85468214,\n",
              "        35.78456663,  35.70105539,  35.50540543,  35.47074789,\n",
              "        35.34445557,  35.29240032,  35.20953869,  35.17689838,\n",
              "        34.96767202,  34.916655  ,  34.75538504,  34.61465435,\n",
              "        34.59266209,  34.46905775,  34.4224088 ,  34.34659201,\n",
              "        34.19923624,  34.07829736,  34.02294759,  33.90927022,\n",
              "        33.83106578,  33.74884883,  33.63393281,  33.50797524,\n",
              "        33.48334059,  33.34994119,  33.31396522,  33.21185346,\n",
              "        33.1160253 ,  33.10654581,  32.94260633,  32.77575647,\n",
              "        32.75324904,  32.64058054,  32.43693575,  32.42636904,\n",
              "        32.36782851,  32.18000663,  32.05698799,  31.97152359,\n",
              "        31.83320118,  31.81868593,  31.74654544,  31.69729755,\n",
              "        31.53630232,  31.43885327,  31.34495848,  31.3247287 ,\n",
              "        31.19841033,  31.02810895,  30.86134947,  30.84447029,\n",
              "        30.83392827,  30.76532102,  30.69711052,  30.64523156,\n",
              "        30.54293606,  30.49986081,  30.42676906,  30.36048971,\n",
              "        30.25845945,  30.13808885,  29.99024596,  29.9501848 ,\n",
              "        29.85055913,  29.80151794,  29.67596467,  29.57218085,\n",
              "        29.48542533,  29.47613401,  29.39187607,  29.30164721,\n",
              "        29.20653666,  29.16279015,  29.10163262,  28.97261951,\n",
              "        28.81485915,  28.69985629,  28.60782573,  28.59559074,\n",
              "        28.5272667 ,  28.46146804,  28.33987628,  28.30587852,\n",
              "        28.22550252,  28.13965855,  28.03740188,  27.94488162,\n",
              "        27.83558897,  27.77743338,  27.76431026,  27.7161438 ,\n",
              "        27.61996601,  27.5858007 ,  27.4516848 ,  27.41676289,\n",
              "        27.33483769,  27.21549527,  27.12629359,  27.04123266,\n",
              "        27.01819685,  26.96143256,  26.90457227,  26.6819124 ,\n",
              "        26.60705098,  26.53082313,  26.50449578,  26.40389656,\n",
              "        26.32794576,  26.27618592,  26.22806553,  26.13539931,\n",
              "        26.07452978,  25.9910118 ,  25.90482671,  25.85018422,\n",
              "        25.79915744,  25.71355809,  25.64446639,  25.57921433,\n",
              "        25.52630436,  25.47094062,  25.42375035,  25.30001409,\n",
              "        25.25810827,  25.19871776,  25.11558625,  25.00921363,\n",
              "        24.94654506,  24.89969022,  24.83184323,  24.73162311,\n",
              "        24.68408177,  24.64925696,  24.49038618,  24.40740067,\n",
              "        24.3565905 ,  24.29705169,  24.27339632,  24.13774029,\n",
              "        24.09351351,  24.08505385,  23.92721521,  23.90025119,\n",
              "        23.81877274,  23.75475692,  23.73127722,  23.72417119,\n",
              "        23.62313945,  23.58421616,  23.42784194,  23.3771156 ,\n",
              "        23.27655818,  23.22220241,  23.15231001,  23.10410419,\n",
              "        23.07501628,  23.00645001,  22.91496846,  22.8611197 ,\n",
              "        22.81448241,  22.77555368,  22.69254301,  22.58170436,\n",
              "        22.541621  ,  22.45072447,  22.39772201,  22.34755157,\n",
              "        22.28786019,  22.26361286,  22.11464078,  22.0974561 ,\n",
              "        22.00827442,  21.9982994 ,  21.90246813,  21.82617912,\n",
              "        21.79338736,  21.70551134,  21.70008797,  21.66313751,\n",
              "        21.54938991,  21.4944297 ,  21.44383187,  21.39733817,\n",
              "        21.33958976,  21.22994108,  21.21611293,  21.18916847,\n",
              "        21.15395924,  21.10460243,  21.0228393 ,  20.99463919,\n",
              "        20.98284196,  20.84119437,  20.78069296,  20.75566374,\n",
              "        20.73293487,  20.61333118,  20.537705  ,  20.48579469,\n",
              "        20.43720775,  20.39212358,  20.30541395,  20.23482436,\n",
              "        20.21249091,  20.15047229,  20.08441827,  20.06669822,\n",
              "        19.91010735,  19.87388443,  19.83514584,  19.80215844,\n",
              "        19.74117647,  19.68542683,  19.64265248,  19.58058364,\n",
              "        19.50717525,  19.47977974,  19.43875379,  19.3346107 ,\n",
              "        19.25188192,  19.24004607,  19.19010199,  19.16166749,\n",
              "        19.11508864,  19.00661296,  18.95568118,  18.88836414,\n",
              "        18.84624051,  18.75781038,  18.74069381,  18.71287266,\n",
              "        18.66736121,  18.61572636,  18.60140863,  18.54886775,\n",
              "        18.41433035,  18.38412971,  18.35073204,  18.31990704,\n",
              "        18.26938998,  18.22264025,  18.18939159,  18.08386636,\n",
              "        18.02283618,  17.99264321,  17.93108514,  17.89626655,\n",
              "        17.84377826,  17.7348423 ,  17.70239312,  17.62826033,\n",
              "        17.59851269,  17.56026261,  17.51973068,  17.44688562,\n",
              "        17.42770249,  17.3417321 ,  17.30479102,  17.26957095,\n",
              "        17.23096033,  17.1927798 ,  17.08918148,  17.08576033,\n",
              "        16.9812379 ,  16.93177988,  16.89499026,  16.85809245,\n",
              "        16.80149993,  16.76249837,  16.64860962,  16.59639806,\n",
              "        16.56584487,  16.51763474,  16.45500951,  16.44043852,\n",
              "        16.3843507 ,  16.32620587,  16.25193084,  16.24996621,\n",
              "        16.1967401 ,  16.14465989,  16.09993875,  16.06539815,\n",
              "        16.00562795,  15.96848272,  15.95372203,  15.88632606,\n",
              "        15.81051081,  15.78283781,  15.73168286,  15.65930506,\n",
              "        15.62751589,  15.57159933,  15.47746353,  15.45829666,\n",
              "        15.42130343,  15.35460137,  15.33632679,  15.32113591,\n",
              "        15.23455116,  15.18257474,  15.1426149 ,  15.06040838,\n",
              "        14.99014896,  14.96896425,  14.86317032,  14.82316569,\n",
              "        14.79159318,  14.75967034,  14.74069046,  14.72101892,\n",
              "        14.67127475,  14.63400674,  14.60110688,  14.56004355,\n",
              "        14.52701811,  14.42164924,  14.38570903,  14.31681464,\n",
              "        14.21779381,  14.20761448,  14.14149125,  14.13124957,\n",
              "        14.07066765,  14.03130273,  13.99454984,  13.98283495,\n",
              "        13.9176491 ,  13.87998439,  13.8078243 ,  13.73846287,\n",
              "        13.72688639,  13.70596902,  13.65272951,  13.60781687,\n",
              "        13.55031061,  13.51095415,  13.45389514,  13.38335859,\n",
              "        13.34977588,  13.25192699,  13.18354567,  13.17048303,\n",
              "        13.15121418,  13.12687426,  13.08067854,  13.02350529,\n",
              "        12.96836531,  12.92412405,  12.8653434 ,  12.80877169,\n",
              "        12.8020819 ,  12.75511513,  12.70420874,  12.67911407,\n",
              "        12.62756631,  12.60539839,  12.55975454,  12.53146212,\n",
              "        12.47128031,  12.40319353,  12.37324231,  12.34326125,\n",
              "        12.25334076,  12.24357116,  12.18277986,  12.14259834,\n",
              "        12.08682712,  12.02227339,  11.9877876 ,  11.98193474,\n",
              "        11.95145356,  11.90342985,  11.84370502,  11.82357835,\n",
              "        11.78482266,  11.75290858,  11.72648187,  11.62672657,\n",
              "        11.53708625,  11.52050482,  11.45528228,  11.38511249,\n",
              "        11.36754806,  11.26820647,  11.2394513 ,  11.18142988,\n",
              "        11.17111759,  11.11706048,  11.10726341,  11.01648163,\n",
              "        10.92963018,  10.8974187 ,  10.86511998,  10.85826705,\n",
              "        10.81428707,  10.73221456,  10.65890386,  10.60692731,\n",
              "        10.57872886,  10.49703726,  10.43752699,  10.40944094,\n",
              "        10.35345518,  10.31384953,  10.26088009,  10.21888903,\n",
              "        10.1984471 ,  10.11757154,  10.1076871 ,  10.03887548,\n",
              "        10.01058752,   9.96006316,   9.83797726,   9.80564394,\n",
              "         9.71160886,   9.65067528,   9.63735642,   9.55473288,\n",
              "         9.52423218,   9.48839721,   9.42350684,   9.38680941,\n",
              "         9.30255735,   9.22588944,   9.17249586,   9.10461202,\n",
              "         9.06230979,   9.01742005,   8.94651468,   8.82260445,\n",
              "         8.79571222,   8.71406406,   8.68691084,   8.62205662,\n",
              "         8.55222806,   8.50973616,   8.44987974,   8.37404777,\n",
              "         8.2597892 ,   8.21659255,   8.19978055,   8.16162983,\n",
              "         7.95247836,   7.93827762,   7.86095117,   7.83137622,\n",
              "         7.78350527,   7.61328403,   7.57070288,   7.48924501,\n",
              "         7.40561071,   7.28448621,   7.2524508 ,   7.23697509,\n",
              "         7.0542286 ,   7.03367161,   6.9739176 ,   6.80105528,\n",
              "         6.76646218,   6.61637982,   6.56101009,   6.45643496,\n",
              "         6.34930101,   6.30412432,   6.15599547,   6.08244658,\n",
              "         5.9286919 ,   5.78441169,   5.68817464,   5.53742903,\n",
              "         5.47359553,   5.4074112 ,   5.22184128,   5.04939401,\n",
              "         4.9843819 ,   4.78323761,   4.62096578,   4.47923645,\n",
              "         4.32200164,   4.18897691,   3.87534928,   3.80207353,\n",
              "         3.6789733 ,   3.52759706,   3.39157879,   3.06463221])"
            ]
          },
          "metadata": {},
          "execution_count": 8
        }
      ]
    },
    {
      "cell_type": "code",
      "source": [
        "# Geração dos autovalores a partir dos valores singulares\n",
        "eigenvals = [s**2 for s in SIGMA]"
      ],
      "metadata": {
        "id": "-WKBpIuvwYiT"
      },
      "execution_count": null,
      "outputs": []
    },
    {
      "cell_type": "code",
      "source": [
        "# Gráfico que mostra a quantidade de informação contida nos 20 primeiros autovalores\n",
        "# Mesmo código utilizado pela professora na Aula 24\n",
        "var_explained = np.round(SIGMA**2/np.sum(SIGMA**2), decimals = 6)\n",
        "print(f'Variância Explicada pelos 20 primeiros valores singulares (porcentagem): \\n{100*var_explained[0:20]}\\n')\n",
        "\n",
        "plt.title('Variância explicada pelos valores singulares')\n",
        "plt.xlabel('Vetor Singular')\n",
        "plt.ylabel('Variância explicada (%)')\n",
        "sb.scatterplot(x=list(range(1,var_explained.shape[0]+1)),y=100*var_explained,markers=\"o\")"
      ],
      "metadata": {
        "id": "3iASoOEFvoK8",
        "colab": {
          "base_uri": "https://localhost:8080/",
          "height": 576
        },
        "outputId": "03a674aa-daa3-4571-d22c-8b94d5491a9d"
      },
      "execution_count": null,
      "outputs": [
        {
          "output_type": "stream",
          "name": "stdout",
          "text": [
            "Variância Explicada pelos 20 primeiros valores singulares (porcentagem): \n",
            "[19.1843  3.4331  3.1413  2.3885  1.7343  1.5765  1.2571  1.1963  1.1392\n",
            "  0.9606  0.8665  0.8316  0.7796  0.7336  0.7083  0.6872  0.659   0.6373\n",
            "  0.6193  0.6043]\n",
            "\n"
          ]
        },
        {
          "output_type": "execute_result",
          "data": {
            "text/plain": [
              "<Axes: title={'center': 'Variância explicada pelos valores singulares'}, xlabel='Vetor Singular', ylabel='Variância explicada (%)'>"
            ]
          },
          "metadata": {},
          "execution_count": 10
        },
        {
          "output_type": "display_data",
          "data": {
            "text/plain": [
              "<Figure size 640x480 with 1 Axes>"
            ],
            "image/png": "[encoded data removed]"
          },
          "metadata": {}
        }
      ]
    },
    {
      "cell_type": "code",
      "source": [
        "print(f'Porcentagem do 1o autovalor: {100*eigenvals[0]/sum(eigenvals)}')"
      ],
      "metadata": {
        "id": "Vc0U-BtvV8Y_",
        "colab": {
          "base_uri": "https://localhost:8080/"
        },
        "outputId": "3d751de7-c36e-427e-df19-12f39baca400"
      },
      "execution_count": null,
      "outputs": [
        {
          "output_type": "stream",
          "name": "stdout",
          "text": [
            "Porcentagem do 1o autovalor: 19.18431277382265\n"
          ]
        }
      ]
    },
    {
      "cell_type": "code",
      "source": [
        "print(f'Porcentagem dos 100 primeiros autovalores: {100*sum(eigenvals[:100])/sum(eigenvals)}')"
      ],
      "metadata": {
        "id": "7zz90EqOwtNs",
        "colab": {
          "base_uri": "https://localhost:8080/"
        },
        "outputId": "6d9a8a2a-0694-4630-e327-44fb0665e08b"
      },
      "execution_count": null,
      "outputs": [
        {
          "output_type": "stream",
          "name": "stdout",
          "text": [
            "Porcentagem dos 100 primeiros autovalores: 68.66617221014212\n"
          ]
        }
      ]
    },
    {
      "cell_type": "code",
      "source": [
        "print(f'Porcentagem dos 200 primeiros autovalores: {100*sum(eigenvals[:200])/sum(eigenvals)}')"
      ],
      "metadata": {
        "id": "2dSIQSjHw1v2",
        "colab": {
          "base_uri": "https://localhost:8080/"
        },
        "outputId": "c4f08903-62e1-45a9-c4d9-220b6cc8e19a"
      },
      "execution_count": null,
      "outputs": [
        {
          "output_type": "stream",
          "name": "stdout",
          "text": [
            "Porcentagem dos 200 primeiros autovalores: 83.30277584420071\n"
          ]
        }
      ]
    },
    {
      "cell_type": "code",
      "source": [
        "print(f'Porcentagem dos 300 primeiros autovalores: {100*sum(eigenvals[:300])/sum(eigenvals)}')"
      ],
      "metadata": {
        "id": "GhUfgWuHw54V",
        "colab": {
          "base_uri": "https://localhost:8080/"
        },
        "outputId": "c69ad13b-ca47-4c1a-e030-979f86c52071"
      },
      "execution_count": null,
      "outputs": [
        {
          "output_type": "stream",
          "name": "stdout",
          "text": [
            "Porcentagem dos 300 primeiros autovalores: 91.12222153911402\n"
          ]
        }
      ]
    },
    {
      "cell_type": "markdown",
      "source": [
        "Do total de 702 autovalores, os 300 maiores (menos da metade) já contêm 91% da informação, o que possibilita o uso de truncamento."
      ],
      "metadata": {
        "id": "JuPK34bCWRyC"
      }
    },
    {
      "cell_type": "markdown",
      "source": [
        "# Algoritmo de Recomendação"
      ],
      "metadata": {
        "id": "XpJiFgQDW0DG"
      }
    },
    {
      "cell_type": "markdown",
      "metadata": {
        "run_control": {
          "frozen": false,
          "read_only": false
        },
        "id": "NNpC0zDpjxBj"
      },
      "source": [
        "O algoritmo de recomendação utilizado é baseado no produto interno. Quanto maior o produto interno, maior a similaridade entre dois filmes.\n",
        "\n",
        "Dado um filme 'user_movieID' que o usuário gosta, o algoritmo retorma uma lista com os filmes que possuem mais similaridade com o filme fornecido."
      ]
    },
    {
      "cell_type": "code",
      "execution_count": null,
      "metadata": {
        "ExecuteTime": {
          "end_time": "2018-02-05T21:22:17.921107Z",
          "start_time": "2018-02-05T21:22:17.910937Z"
        },
        "collapsed": true,
        "run_control": {
          "frozen": false,
          "read_only": false
        },
        "id": "yPhSo5XjjxBj"
      },
      "outputs": [],
      "source": [
        "# Função que recomenda, por padrão, 10 filmes similares a um filme fornecido\n",
        "def recommend_similar_movies(user_movieID, VT, tot_requests=10):\n",
        "    # Os arquivos movies.csv e rating_small.csv com os datasets são 1-indexados (o primeiro filme é o filme de ID 1)\n",
        "    # Os nossos dataframes U, SIGMA e VT são 0-indexados (o primeiro filme é o filme de ID 0)\n",
        "    user_movieID -= 1\n",
        "\n",
        "    recs = [] # lista de pares (idFilme, similaridade)\n",
        "\n",
        "    for movieID in range(len(VT[0])):\n",
        "        if movieID != user_movieID: # nao recomendar o mesmo filme que o usuario ja assistiu\n",
        "            recs.append([movieID+1,np.dot(VT[:,user_movieID],VT[:,movieID])])  #insere o par (filme_atual, similaridade entre filme_atual e filme do usuario)\n",
        "    final_rec = [(i[0],i[1]) for i in sorted(recs,key=lambda x: x[1],reverse=True)] # ordenar a lista de recomendados de acordo com as similaridades (da maior para a menor)\n",
        "    return final_rec[:tot_requests] # retornar os 'tot_requests' filmes com maior similaridade"
      ]
    },
    {
      "cell_type": "markdown",
      "source": [
        "A partir da análise dos autovalores, decidimos aplicar a SVD truncada com k = 300."
      ],
      "metadata": {
        "id": "XTOoO9urf9YP"
      }
    },
    {
      "cell_type": "code",
      "source": [
        "# Com k = 300, temos 91% da informação\n",
        "U, SIGMA, VT = svds(mat, k=300)"
      ],
      "metadata": {
        "id": "TsuHqymAgSNH"
      },
      "execution_count": null,
      "outputs": []
    },
    {
      "cell_type": "code",
      "execution_count": null,
      "metadata": {
        "ExecuteTime": {
          "end_time": "2018-02-05T21:22:18.909782Z",
          "start_time": "2018-02-05T21:22:18.891943Z"
        },
        "run_control": {
          "frozen": false,
          "read_only": false
        },
        "id": "jK4O0Y5RjxBj",
        "colab": {
          "base_uri": "https://localhost:8080/",
          "height": 81
        },
        "outputId": "0ffedb25-c08e-45e4-f145-29be60fb3ddc"
      },
      "outputs": [
        {
          "output_type": "execute_result",
          "data": {
            "text/plain": [
              "   movieId             Title                                       genres\n",
              "0        1  Toy Story (1995)  Adventure|Animation|Children|Comedy|Fantasy"
            ],
            "text/html": [
              "\n",
              "  <div id=\"df-3ff9b019-78ee-4e46-b961-f01797a73cea\" class=\"colab-df-container\">\n",
              "    <div>\n",
              "<style scoped>\n",
              "    .dataframe tbody tr th:only-of-type {\n",
              "        vertical-align: middle;\n",
              "    }\n",
              "\n",
              "    .dataframe tbody tr th {\n",
              "        vertical-align: top;\n",
              "    }\n",
              "\n",
              "    .dataframe thead th {\n",
              "        text-align: right;\n",
              "    }\n",
              "</style>\n",
              "<table border=\"1\" class=\"dataframe\">\n",
              "  <thead>\n",
              "    <tr style=\"text-align: right;\">\n",
              "      <th></th>\n",
              "      <th>movieId</th>\n",
              "      <th>Title</th>\n",
              "      <th>genres</th>\n",
              "    </tr>\n",
              "  </thead>\n",
              "  <tbody>\n",
              "    <tr>\n",
              "      <th>0</th>\n",
              "      <td>1</td>\n",
              "      <td>Toy Story (1995)</td>\n",
              "      <td>Adventure|Animation|Children|Comedy|Fantasy</td>\n",
              "    </tr>\n",
              "  </tbody>\n",
              "</table>\n",
              "</div>\n",
              "    <div class=\"colab-df-buttons\">\n",
              "\n",
              "  <div class=\"colab-df-container\">\n",
              "    <button class=\"colab-df-convert\" onclick=\"convertToInteractive('df-3ff9b019-78ee-4e46-b961-f01797a73cea')\"\n",
              "            title=\"Convert this dataframe to an interactive table.\"\n",
              "            style=\"display:none;\">\n",
              "\n",
              "  <svg xmlns=\"http://www.w3.org/2000/svg\" height=\"24px\" viewBox=\"0 -960 960 960\">\n",
              "    <path d=\"M120-120v-720h720v720H120Zm60-500h600v-160H180v160Zm220 220h160v-160H400v160Zm0 220h160v-160H400v160ZM180-400h160v-160H180v160Zm440 0h160v-160H620v160ZM180-180h160v-160H180v160Zm440 0h160v-160H620v160Z\"/>\n",
              "  </svg>\n",
              "    </button>\n",
              "\n",
              "  <style>\n",
              "    .colab-df-container {\n",
              "      display:flex;\n",
              "      gap: 12px;\n",
              "    }\n",
              "\n",
              "    .colab-df-convert {\n",
              "      background-color: #E8F0FE;\n",
              "      border: none;\n",
              "      border-radius: 50%;\n",
              "      cursor: pointer;\n",
              "      display: none;\n",
              "      fill: #1967D2;\n",
              "      height: 32px;\n",
              "      padding: 0 0 0 0;\n",
              "      width: 32px;\n",
              "    }\n",
              "\n",
              "    .colab-df-convert:hover {\n",
              "      background-color: #E2EBFA;\n",
              "      box-shadow: 0px 1px 2px rgba(60, 64, 67, 0.3), 0px 1px 3px 1px rgba(60, 64, 67, 0.15);\n",
              "      fill: #174EA6;\n",
              "    }\n",
              "\n",
              "    .colab-df-buttons div {\n",
              "      margin-bottom: 4px;\n",
              "    }\n",
              "\n",
              "    [theme=dark] .colab-df-convert {\n",
              "      background-color: #3B4455;\n",
              "      fill: #D2E3FC;\n",
              "    }\n",
              "\n",
              "    [theme=dark] .colab-df-convert:hover {\n",
              "      background-color: #434B5C;\n",
              "      box-shadow: 0px 1px 3px 1px rgba(0, 0, 0, 0.15);\n",
              "      filter: drop-shadow(0px 1px 2px rgba(0, 0, 0, 0.3));\n",
              "      fill: #FFFFFF;\n",
              "    }\n",
              "  </style>\n",
              "\n",
              "    <script>\n",
              "      const buttonEl =\n",
              "        document.querySelector('#df-3ff9b019-78ee-4e46-b961-f01797a73cea button.colab-df-convert');\n",
              "      buttonEl.style.display =\n",
              "        google.colab.kernel.accessAllowed ? 'block' : 'none';\n",
              "\n",
              "      async function convertToInteractive(key) {\n",
              "        const element = document.querySelector('#df-3ff9b019-78ee-4e46-b961-f01797a73cea');\n",
              "        const dataTable =\n",
              "          await google.colab.kernel.invokeFunction('convertToInteractive',\n",
              "                                                    [key], {});\n",
              "        if (!dataTable) return;\n",
              "\n",
              "        const docLinkHtml = 'Like what you see? Visit the ' +\n",
              "          '<a target=\"_blank\" href=https://colab.research.google.com/notebooks/data_table.ipynb>data table notebook</a>'\n",
              "          + ' to learn more about interactive tables.';\n",
              "        element.innerHTML = '';\n",
              "        dataTable['output_type'] = 'display_data';\n",
              "        await google.colab.output.renderOutput(dataTable, element);\n",
              "        const docLink = document.createElement('div');\n",
              "        docLink.innerHTML = docLinkHtml;\n",
              "        element.appendChild(docLink);\n",
              "      }\n",
              "    </script>\n",
              "  </div>\n",
              "\n",
              "    </div>\n",
              "  </div>\n"
            ]
          },
          "metadata": {},
          "execution_count": 20
        }
      ],
      "source": [
        "# Consulta no dicionário qual o ID de um filme de acordo com seu título\n",
        "movies[movies.Title == \"Toy Story (1995)\"]"
      ]
    },
    {
      "cell_type": "code",
      "execution_count": null,
      "metadata": {
        "ExecuteTime": {
          "end_time": "2018-02-05T21:25:37.350258Z",
          "start_time": "2018-02-05T21:25:36.811587Z"
        },
        "run_control": {
          "frozen": false,
          "read_only": false
        },
        "id": "Eb6XS4-JjxBj",
        "colab": {
          "base_uri": "https://localhost:8080/"
        },
        "outputId": "d0bbe242-0495-4e37-eb8b-4abf6b22ac41"
      },
      "outputs": [
        {
          "output_type": "stream",
          "name": "stdout",
          "text": [
            "(3114, 0.07188579614193323)\n",
            "3027    Toy Story 2 (1999)\n",
            "Name: Title, dtype: object \n",
            "\n",
            "(141, 0.04940638533235653)\n",
            "139    Birdcage, The (1996)\n",
            "Name: Title, dtype: object \n",
            "\n",
            "(4306, 0.046725954394975316)\n",
            "4211    Shrek (2001)\n",
            "Name: Title, dtype: object \n",
            "\n",
            "(52, 0.04572245166702277)\n",
            "51    Mighty Aphrodite (1995)\n",
            "Name: Title, dtype: object \n",
            "\n",
            "(661, 0.04097209985414245)\n",
            "653    James and the Giant Peach (1996)\n",
            "Name: Title, dtype: object \n",
            "\n",
            "(595, 0.04079892581441221)\n",
            "589    Beauty and the Beast (1991)\n",
            "Name: Title, dtype: object \n",
            "\n",
            "(802, 0.04033225452718689)\n",
            "789    Phenomenon (1996)\n",
            "Name: Title, dtype: object \n",
            "\n",
            "(4886, 0.0383701977464551)\n",
            "4790    Monsters, Inc. (2001)\n",
            "Name: Title, dtype: object \n",
            "\n",
            "(1073, 0.037091443871388366)\n",
            "1052    Willy Wonka & the Chocolate Factory (1971)\n",
            "Name: Title, dtype: object \n",
            "\n",
            "(380, 0.037088997890286475)\n",
            "376    True Lies (1994)\n",
            "Name: Title, dtype: object \n",
            "\n"
          ]
        }
      ],
      "source": [
        "# Imprime os 10 filmes mais similares com o filme pesquisado\n",
        "MOVIE_ID = 1\n",
        "for item in recommend_similar_movies(MOVIE_ID,VT,tot_requests=10):\n",
        "    print(item)\n",
        "    print(movies[movies['movieId'] == int(item[0])].Title,'\\n')"
      ]
    },
    {
      "cell_type": "markdown",
      "source": [
        "# Referências"
      ],
      "metadata": {
        "id": "k3QH2buzGEec"
      }
    },
    {
      "cell_type": "markdown",
      "source": [
        "MILLER, Z. W. **Recommendation Engines for Dummies.** Disponível em: <http://zwmiller.com/projects/simple_recommender.html>. Acesso em: 27 nov. 2023.\n",
        "\n",
        "TAE, J. **Recommendarion Algorithm with SVD.** Disponível em: <https://jaketae.github.io/study/svd/>. Acesso em: 27 nov. 2023"
      ],
      "metadata": {
        "id": "8IkqwxYKGSrH"
      }
    },
    {
      "cell_type": "code",
      "source": [],
      "metadata": {
        "id": "dbks3yfVHgMy"
      },
      "execution_count": null,
      "outputs": []
    }
  ],
  "metadata": {
    "kernelspec": {
      "display_name": "Python [default]",
      "language": "python",
      "name": "python3"
    },
    "language_info": {
      "codemirror_mode": {
        "name": "ipython",
        "version": 3
      },
      "file_extension": ".py",
      "mimetype": "text/x-python",
      "name": "python",
      "nbconvert_exporter": "python",
      "pygments_lexer": "ipython3",
      "version": "3.6.2"
    },
    "latex_envs": {
      "LaTeX_envs_menu_present": true,
      "bibliofile": "biblio.bib",
      "cite_by": "apalike",
      "current_citInitial": 1,
      "eqLabelWithNumbers": true,
      "eqNumInitial": 1,
      "hotkeys": {
        "equation": "Ctrl-E",
        "itemize": "Ctrl-I"
      },
      "labels_anchors": false,
      "latex_user_defs": false,
      "report_style_numbering": false,
      "user_envs_cfg": false
    },
    "toc": {
      "nav_menu": {
        "height": "48px",
        "width": "252px"
      },
      "number_sections": true,
      "sideBar": true,
      "skip_h1_title": false,
      "toc_cell": false,
      "toc_position": {},
      "toc_section_display": "block",
      "toc_window_display": false
    },
    "colab": {
      "provenance": []
    }
  },
  "nbformat": 4,
  "nbformat_minor": 0
}